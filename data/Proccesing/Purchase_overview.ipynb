{
 "cells": [
  {
   "cell_type": "code",
   "execution_count": 8,
   "id": "6d73036e-f933-4248-8ab3-a7b67262fbbd",
   "metadata": {},
   "outputs": [
    {
     "name": "stdout",
     "output_type": "stream",
     "text": [
      "C:\\Users\\jrios\\Desktop\\analisis\\Data\\Proccesing\\data\\raw\\shopping_trends.csv\n"
     ]
    }
   ],
   "source": [
    "import pandas as pd\n"
   ]
  },
  {
   "cell_type": "code",
   "execution_count": 7,
   "id": "02d2778c-294a-48f1-bc4d-7c6538cc3dc5",
   "metadata": {},
   "outputs": [],
   "source": [
    "df_purchases_clean = pd.read_csv(r\"TuRuta\")\n"
   ]
  },
  {
   "cell_type": "code",
   "execution_count": 9,
   "id": "7c9b5195-80e5-4123-b4aa-16acde295063",
   "metadata": {},
   "outputs": [],
   "source": [
    "Selected_columns = [\n",
    "    \"Customer ID\",\n",
    "    \"Item Purchased\",\n",
    "    \"Category\",\n",
    "    \"Purchase Amount (USD)\",\n",
    "    \"Season\",\n",
    "    \"Review Rating\",\n",
    "    \"Payment Method\",\n",
    "]\n"
   ]
  },
  {
   "cell_type": "code",
   "execution_count": 10,
   "id": "2b60d978-9961-4e2b-b1f7-73ee869a9448",
   "metadata": {},
   "outputs": [],
   "source": [
    "df_purchases_clean = df_purchases_clean[Selected_columns]"
   ]
  },
  {
   "cell_type": "code",
   "execution_count": 11,
   "id": "4e237a4c-fbbf-4e1e-bc64-fe44d7513ab8",
   "metadata": {},
   "outputs": [
    {
     "name": "stdout",
     "output_type": "stream",
     "text": [
      "<class 'pandas.core.frame.DataFrame'>\n",
      "RangeIndex: 3900 entries, 0 to 3899\n",
      "Data columns (total 7 columns):\n",
      " #   Column                 Non-Null Count  Dtype  \n",
      "---  ------                 --------------  -----  \n",
      " 0   Customer ID            3900 non-null   int64  \n",
      " 1   Item Purchased         3900 non-null   object \n",
      " 2   Category               3900 non-null   object \n",
      " 3   Purchase Amount (USD)  3900 non-null   int64  \n",
      " 4   Season                 3900 non-null   object \n",
      " 5   Review Rating          3900 non-null   float64\n",
      " 6   Payment Method         3900 non-null   object \n",
      "dtypes: float64(1), int64(2), object(4)\n",
      "memory usage: 213.4+ KB\n"
     ]
    }
   ],
   "source": [
    "df_purchases_clean.info()"
   ]
  },
  {
   "cell_type": "code",
   "execution_count": 12,
   "id": "63af5f49-aaf0-4457-b6d9-fad1194d0a53",
   "metadata": {},
   "outputs": [
    {
     "name": "stdout",
     "output_type": "stream",
     "text": [
      "Total Purchase Amount (USD): 233081\n"
     ]
    }
   ],
   "source": [
    "total_purchase_amount = df_purchases_clean[\"Purchase Amount (USD)\"].sum()\n",
    "print(f\"Total Purchase Amount (USD): {total_purchase_amount}\")"
   ]
  },
  {
   "cell_type": "code",
   "execution_count": 13,
   "id": "e88e8088-1740-4ead-9814-5ebf03310600",
   "metadata": {},
   "outputs": [
    {
     "name": "stdout",
     "output_type": "stream",
     "text": [
      "Category Counts:\n",
      "Category\n",
      "Clothing       1737\n",
      "Accessories    1240\n",
      "Footwear        599\n",
      "Outerwear       324\n",
      "Name: count, dtype: int64\n"
     ]
    }
   ],
   "source": [
    "# Contar las categorías más compradas\n",
    "category_counts = df_purchases_clean[\"Category\"].value_counts()\n",
    "print(f\"Category Counts:\\n{category_counts}\")\n"
   ]
  },
  {
   "cell_type": "code",
   "execution_count": 14,
   "id": "a7810d46-1a0b-43de-975b-d3961bf5116e",
   "metadata": {},
   "outputs": [
    {
     "name": "stdout",
     "output_type": "stream",
     "text": [
      "Number of Unique Customers: 3900\n"
     ]
    }
   ],
   "source": [
    "# Contar el número de clientes únicos\n",
    "unique_customers = df_purchases_clean[\"Customer ID\"].nunique()\n",
    "print(f\"Number of Unique Customers: {unique_customers}\")"
   ]
  },
  {
   "cell_type": "code",
   "execution_count": 15,
   "id": "a1b26267-e414-4c9e-8e0d-f5db9e8a9658",
   "metadata": {},
   "outputs": [
    {
     "name": "stdout",
     "output_type": "stream",
     "text": [
      "Top 5 Reviews:\n",
      "         Category Item Purchased  Review Rating\n",
      "2393     Clothing          Socks            5.0\n",
      "2405     Clothing          Jeans            5.0\n",
      "600   Accessories            Hat            5.0\n",
      "3467  Accessories          Scarf            5.0\n",
      "507      Clothing         Shorts            5.0\n"
     ]
    }
   ],
   "source": [
    "# Top 5 reviews: ordenar las categorías por el rating de reseñas más alto\n",
    "top_5_reviews = df_purchases_clean[['Category', 'Item Purchased', 'Review Rating']].dropna()\n",
    "top_5_reviews_sorted = top_5_reviews.sort_values(by='Review Rating', ascending=False)\n",
    "print(f\"Top 5 Reviews:\\n{top_5_reviews_sorted.head(5)}\")\n"
   ]
  },
  {
   "cell_type": "code",
   "execution_count": 16,
   "id": "7e344041-f629-48c0-9348-3da0b87dbca9",
   "metadata": {},
   "outputs": [
    {
     "name": "stdout",
     "output_type": "stream",
     "text": [
      "Top 5 Products by Purchase Amount (USD):\n",
      "                Purchase Amount (USD)\n",
      "Item Purchased                       \n",
      "Blouse                          10410\n",
      "Shirt                           10332\n",
      "Dress                           10320\n",
      "Pants                           10090\n",
      "Jewelry                         10010\n"
     ]
    }
   ],
   "source": [
    "# Top 5 productos más comprados por monto\n",
    "top_5_products_by_purchase = df_purchases_clean[['Item Purchased', 'Purchase Amount (USD)']].groupby('Item Purchased').sum().sort_values('Purchase Amount (USD)', ascending=False).head(5)\n",
    "print(f\"Top 5 Products by Purchase Amount (USD):\\n{top_5_products_by_purchase}\")\n"
   ]
  },
  {
   "cell_type": "code",
   "execution_count": 37,
   "id": "01f5bcc7-5cdb-4ddf-995d-58de52863080",
   "metadata": {},
   "outputs": [
    {
     "name": "stdout",
     "output_type": "stream",
     "text": [
      "Payment Method Distribution:\n",
      "  Payment Method  Number of Purchases\n",
      "0    Credit Card                  696\n",
      "1          Venmo                  653\n",
      "2           Cash                  648\n",
      "3         PayPal                  638\n",
      "4     Debit Card                  633\n",
      "5  Bank Transfer                  632\n"
     ]
    }
   ],
   "source": [
    "# Distribución del método de pago\n",
    "payment_method_distribution = df_purchases_clean['Payment Method'].value_counts().reset_index()\n",
    "payment_method_distribution.columns = ['Payment Method', 'Number of Purchases']\n",
    "print(f\"Payment Method Distribution:\\n{payment_method_distribution}\")\n"
   ]
  },
  {
   "cell_type": "code",
   "execution_count": 20,
   "id": "b8d08efe-d796-4e4d-9ad7-923f93a94dd8",
   "metadata": {},
   "outputs": [],
   "source": [
    "# Guardar el DataFrame final en formato Parquet\n",
    "df_purchases_clean.to_parquet(r\"Data\\ready/purchases.parquet\")"
   ]
  },
  {
   "cell_type": "code",
   "execution_count": null,
   "id": "6ea2c8c6-1951-4f16-bb37-dcbee9af8e8a",
   "metadata": {},
   "outputs": [],
   "source": []
  }
 ],
 "metadata": {
  "kernelspec": {
   "display_name": "Python 3 (ipykernel)",
   "language": "python",
   "name": "python3"
  },
  "language_info": {
   "codemirror_mode": {
    "name": "ipython",
    "version": 3
   },
   "file_extension": ".py",
   "mimetype": "text/x-python",
   "name": "python",
   "nbconvert_exporter": "python",
   "pygments_lexer": "ipython3",
   "version": "3.13.1"
  }
 },
 "nbformat": 4,
 "nbformat_minor": 5
}
