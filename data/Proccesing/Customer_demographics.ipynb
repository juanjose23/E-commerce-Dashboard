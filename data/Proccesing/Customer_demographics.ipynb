{
 "cells": [
  {
   "cell_type": "code",
   "execution_count": 2,
   "id": "fc46fc41-660f-4aa6-876c-9f125c0e79e1",
   "metadata": {},
   "outputs": [],
   "source": [
    "import pandas as pd"
   ]
  },
  {
   "cell_type": "code",
   "execution_count": 3,
   "id": "ff59fab8-1c9f-4610-a20f-792e11430804",
   "metadata": {},
   "outputs": [],
   "source": [
    "Selected_columns_demographics = [\n",
    "    \"Customer ID\",\n",
    "    \"Age\",\n",
    "    \"Gender\",\n",
    "    \"Location\",\n",
    "    \"Subscription Status\",\n",
    "]"
   ]
  },
  {
   "cell_type": "code",
   "execution_count": 4,
   "id": "ab506d45-c09c-42be-bb49-012fa02a00d6",
   "metadata": {},
   "outputs": [],
   "source": [
    "# Cargar los datos\n",
    "df_purchases_clean = pd.read_csv(r\"TuRuta\")\n"
   ]
  },
  {
   "cell_type": "code",
   "execution_count": 5,
   "id": "27a95a90-ae92-4093-a2d0-ab66a3850b31",
   "metadata": {},
   "outputs": [],
   "source": [
    "# solo las columnas necesarias\n",
    "df_demographics_clean = df_purchases_clean[Selected_columns_demographics]\n"
   ]
  },
  {
   "cell_type": "code",
   "execution_count": 6,
   "id": "126cf33c-b406-4e04-98b3-e7c2b7ae9288",
   "metadata": {},
   "outputs": [
    {
     "name": "stdout",
     "output_type": "stream",
     "text": [
      "<class 'pandas.core.frame.DataFrame'>\n",
      "RangeIndex: 3900 entries, 0 to 3899\n",
      "Data columns (total 5 columns):\n",
      " #   Column               Non-Null Count  Dtype \n",
      "---  ------               --------------  ----- \n",
      " 0   Customer ID          3900 non-null   int64 \n",
      " 1   Age                  3900 non-null   int64 \n",
      " 2   Gender               3900 non-null   object\n",
      " 3   Location             3900 non-null   object\n",
      " 4   Subscription Status  3900 non-null   object\n",
      "dtypes: int64(2), object(3)\n",
      "memory usage: 152.5+ KB\n"
     ]
    }
   ],
   "source": [
    "# Mostrar información básica \n",
    "df_demographics_clean.info()"
   ]
  },
  {
   "cell_type": "code",
   "execution_count": 7,
   "id": "16e8d60f-5408-4e4d-9737-78dda5295db2",
   "metadata": {},
   "outputs": [
    {
     "name": "stdout",
     "output_type": "stream",
     "text": [
      "Gender Distribution:\n",
      "   Gender  Count\n",
      "0    Male   2652\n",
      "1  Female   1248\n"
     ]
    }
   ],
   "source": [
    "# Distribución por género\n",
    "gender_distribution = df_demographics_clean['Gender'].value_counts().reset_index()\n",
    "gender_distribution.columns = ['Gender', 'Count']\n",
    "print(f\"Gender Distribution:\\n{gender_distribution}\")"
   ]
  },
  {
   "cell_type": "code",
   "execution_count": 8,
   "id": "07680b1e-8748-4661-a127-b4e01a662038",
   "metadata": {},
   "outputs": [
    {
     "name": "stdout",
     "output_type": "stream",
     "text": [
      "Age Distribution:\n",
      "  Age Range  Count\n",
      "0     45-60   1142\n",
      "1       >60    788\n",
      "2     25-34    755\n",
      "3     35-44    729\n",
      "4     18-24    486\n",
      "5       <18      0\n"
     ]
    }
   ],
   "source": [
    "# Distribución por edad (por rangos)\n",
    "age_distribution = pd.cut(df_demographics_clean['Age'], bins=[0, 18, 25, 35, 45, 60, 100], right=False, labels=['<18', '18-24', '25-34', '35-44', '45-60', '>60'])\n",
    "age_distribution_counts = age_distribution.value_counts().reset_index()\n",
    "age_distribution_counts.columns = ['Age Range', 'Count']\n",
    "print(f\"Age Distribution:\\n{age_distribution_counts}\")\n"
   ]
  },
  {
   "cell_type": "code",
   "execution_count": 9,
   "id": "1793d05a-ca24-491c-abc7-1e5526db8a7c",
   "metadata": {},
   "outputs": [
    {
     "name": "stdout",
     "output_type": "stream",
     "text": [
      "Location Distribution (Top 10):\n",
      "     Location  Count\n",
      "0     Montana     96\n",
      "1  California     95\n",
      "2       Idaho     93\n",
      "3    Illinois     92\n",
      "4     Alabama     89\n",
      "5   Minnesota     88\n",
      "6    New York     87\n",
      "7      Nevada     87\n",
      "8    Nebraska     87\n",
      "9    Delaware     86\n"
     ]
    }
   ],
   "source": [
    "# Distribución por ubicación (top 10 lugares)\n",
    "location_distribution = df_demographics_clean['Location'].value_counts().head(10).reset_index()\n",
    "location_distribution.columns = ['Location', 'Count']\n",
    "print(f\"Location Distribution (Top 10):\\n{location_distribution}\")\n"
   ]
  },
  {
   "cell_type": "code",
   "execution_count": 10,
   "id": "0d3b13be-4b04-4b68-aee9-ecd4903bb1ef",
   "metadata": {},
   "outputs": [
    {
     "name": "stdout",
     "output_type": "stream",
     "text": [
      "Subscription Status Distribution:\n",
      "  Subscription Status  Count\n",
      "0                  No   2847\n",
      "1                 Yes   1053\n"
     ]
    }
   ],
   "source": [
    "# Distribución del estado de suscripción (si tienen o no suscripción)\n",
    "subscription_distribution = df_demographics_clean['Subscription Status'].value_counts().reset_index()\n",
    "subscription_distribution.columns = ['Subscription Status', 'Count']\n",
    "print(f\"Subscription Status Distribution:\\n{subscription_distribution}\")\n"
   ]
  },
  {
   "cell_type": "code",
   "execution_count": 11,
   "id": "564b9d90-399b-4012-b195-d93f5ef68e6b",
   "metadata": {},
   "outputs": [],
   "source": [
    "# Guardar el DataFrame final de demográficos \n",
    "df_demographics_clean.to_parquet(r\"Data\\ready\\customer_demographics.parquet\")"
   ]
  },
  {
   "cell_type": "code",
   "execution_count": null,
   "id": "c2ca8554-473a-4018-8ebd-588e7627ee4c",
   "metadata": {},
   "outputs": [],
   "source": []
  }
 ],
 "metadata": {
  "kernelspec": {
   "display_name": "Python 3 (ipykernel)",
   "language": "python",
   "name": "python3"
  },
  "language_info": {
   "codemirror_mode": {
    "name": "ipython",
    "version": 3
   },
   "file_extension": ".py",
   "mimetype": "text/x-python",
   "name": "python",
   "nbconvert_exporter": "python",
   "pygments_lexer": "ipython3",
   "version": "3.13.1"
  }
 },
 "nbformat": 4,
 "nbformat_minor": 5
}
